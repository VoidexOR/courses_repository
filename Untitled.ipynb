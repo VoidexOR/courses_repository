{
 "cells": [
  {
   "cell_type": "code",
   "execution_count": 1,
   "id": "f710a0a8",
   "metadata": {},
   "outputs": [],
   "source": [
    "import math"
   ]
  },
  {
   "cell_type": "code",
   "execution_count": 3,
   "id": "8f865c6f",
   "metadata": {},
   "outputs": [
    {
     "name": "stdout",
     "output_type": "stream",
     "text": [
      "7\n",
      "3\n",
      "10\n",
      "2.5\n"
     ]
    }
   ],
   "source": [
    "a = 5\n",
    "b = 2\n",
    "print(a + b) # сложение!\n",
    "print(a - b) # вычитание!!\n",
    "print(a * b) # умножение!!!\n",
    "print(a / b) # деление!!!!"
   ]
  },
  {
   "cell_type": "code",
   "execution_count": 4,
   "id": "968dec19",
   "metadata": {},
   "outputs": [
    {
     "name": "stdout",
     "output_type": "stream",
     "text": [
      "True\n",
      "False\n",
      "False\n",
      "True\n"
     ]
    }
   ],
   "source": [
    "print(a > b) # больше!\n",
    "print(a < b) # меньше!!\n",
    "print(a == b) # равно!!!\n",
    "print(a != b) # не равно!!!!"
   ]
  },
  {
   "cell_type": "code",
   "execution_count": 7,
   "id": "5f09fe87",
   "metadata": {},
   "outputs": [
    {
     "name": "stdout",
     "output_type": "stream",
     "text": [
      "Здравствуй, мир! Моё имя - Андрей!\n",
      "Введите число: 4\n",
      "Вы ввели 4, не так ли?\n"
     ]
    }
   ],
   "source": [
    "print('Здравствуй, мир! Моё имя - Андрей!')\n",
    "x = input('Введите число: ') # ввод данных\n",
    "print(f'Вы ввели {x}, не так ли?')"
   ]
  }
 ],
 "metadata": {
  "kernelspec": {
   "display_name": "Python 3 (ipykernel)",
   "language": "python",
   "name": "python3"
  },
  "language_info": {
   "codemirror_mode": {
    "name": "ipython",
    "version": 3
   },
   "file_extension": ".py",
   "mimetype": "text/x-python",
   "name": "python",
   "nbconvert_exporter": "python",
   "pygments_lexer": "ipython3",
   "version": "3.11.4"
  }
 },
 "nbformat": 4,
 "nbformat_minor": 5
}
